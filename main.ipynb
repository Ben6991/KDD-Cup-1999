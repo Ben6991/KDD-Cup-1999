{
 "cells": [
  {
   "cell_type": "markdown",
   "metadata": {},
   "source": [
    "# KDD 1999 Cup ML Project"
   ]
  },
  {
   "cell_type": "code",
   "execution_count": 2,
   "metadata": {},
   "outputs": [],
   "source": [
    "# load libraries\n",
    "import numpy as np\n",
    "import pandas as pd\n",
    "import matplotlib.pyplot as plt\n",
    "import seaborn as sns\n",
    "%matplotlib inline"
   ]
  },
  {
   "cell_type": "code",
   "execution_count": 3,
   "metadata": {},
   "outputs": [],
   "source": [
    "# load data\n",
    "train = pd.read_csv('Data/kddcup.data_10_percent_corrected', header=None)\n",
    "test = pd.read_csv('Data/corrected', header=None)"
   ]
  },
  {
   "cell_type": "code",
   "execution_count": 4,
   "metadata": {},
   "outputs": [
    {
     "name": "stdout",
     "output_type": "stream",
     "text": [
      "Train data contains 494021 rows and 42 columns\n",
      "Test data contains 311029 rows and 42 columns\n"
     ]
    }
   ],
   "source": [
    "print(f'Train data contains {train.shape[0]} rows and {train.shape[1]} columns')\n",
    "print(f'Test data contains {test.shape[0]} rows and {test.shape[1]} columns')"
   ]
  },
  {
   "cell_type": "code",
   "execution_count": 5,
   "metadata": {},
   "outputs": [
    {
     "name": "stdout",
     "output_type": "stream",
     "text": [
      "Number of missing values on the train set: 0\n",
      "Number of missing values on the test set: 0\n"
     ]
    }
   ],
   "source": [
    "# missing data ?\n",
    "print(f'Number of missing values on the train set: {train.isna().sum().sum()}')\n",
    "print(f'Number of missing values on the test set: {test.isna().sum().sum()}')"
   ]
  },
  {
   "cell_type": "markdown",
   "metadata": {},
   "source": [
    "### Features"
   ]
  },
  {
   "cell_type": "code",
   "execution_count": null,
   "metadata": {},
   "outputs": [],
   "source": [
    "# Duration\n",
    "figure, ax = plt.subplots(nrows=1, ncols=2, sharey=True, figsize=(7, 2.8))\n",
    "sns.distplot(train.iloc[:, 1], ax=ax[0])\n",
    "sns.distplot(test.iloc[:, 1], ax=ax[1])\n",
    "ax[0].set_title('Train'); ax[1].set_title('Test')\n",
    "ax[0].set_xlabel(''); ax[1].set_xlabel('') \n",
    "plt.tight_layout()"
   ]
  },
  {
   "cell_type": "code",
   "execution_count": 36,
   "metadata": {},
   "outputs": [
    {
     "data": {
      "image/png": "[encoded data removed]",
      "text/plain": [
       "<Figure size 504x201.6 with 2 Axes>"
      ]
     },
     "metadata": {
      "needs_background": "light"
     },
     "output_type": "display_data"
    }
   ],
   "source": [
    "# protocol_type\n",
    "figure, ax = plt.subplots(nrows=1, ncols=2, sharey=True, figsize=(7, 2.8))\n",
    "sns.countplot(train.iloc[:, 1], ax=ax[0])\n",
    "sns.countplot(test.iloc[:, 1], ax=ax[1])\n",
    "ax[0].set_title('Train'); ax[1].set_title('Test')\n",
    "ax[0].set_xlabel(''); ax[1].set_xlabel('') \n",
    "plt.tight_layout()"
   ]
  },
  {
   "cell_type": "code",
   "execution_count": null,
   "metadata": {},
   "outputs": [],
   "source": []
  }
 ],
 "metadata": {
  "kernelspec": {
   "display_name": "Python 3",
   "language": "python",
   "name": "python3"
  },
  "language_info": {
   "codemirror_mode": {
    "name": "ipython",
    "version": 3
   },
   "file_extension": ".py",
   "mimetype": "text/x-python",
   "name": "python",
   "nbconvert_exporter": "python",
   "pygments_lexer": "ipython3",
   "version": "3.6.6"
  }
 },
 "nbformat": 4,
 "nbformat_minor": 2
}
